{
 "cells": [
  {
   "cell_type": "markdown",
   "id": "2fa3ef79",
   "metadata": {},
   "source": [
    "**1. What exactly is [ ]?**\n",
    "\n",
    "It is a representation of an empty list i.e. a list which does not have any item in it."
   ]
  },
  {
   "cell_type": "markdown",
   "id": "1c573ecf",
   "metadata": {},
   "source": [
    "**2. In a list of values stored in a variable called spam, how would you assign the value 'hello' as the third value? (Assume [2, 4, 6, 8, 10] are in spam.)**"
   ]
  },
  {
   "cell_type": "code",
   "execution_count": 1,
   "id": "7e39c1e1",
   "metadata": {},
   "outputs": [
    {
     "name": "stdout",
     "output_type": "stream",
     "text": [
      "[2, 4, 6, 8, 10]\n",
      "[2, 4, 'hello', 8, 10]\n"
     ]
    }
   ],
   "source": [
    "spam = [2,4,6,8,10]\n",
    "print (spam)\n",
    "\n",
    "#With the help of indexing we can assign the value 'hello' as the third value.\n",
    "\n",
    "spam[2] = 'hello'\n",
    "print(spam)\n"
   ]
  },
  {
   "cell_type": "markdown",
   "id": "cd79074f",
   "metadata": {},
   "source": [
    "**Let's pretend the spam includes the list ['a', 'b', 'c', 'd'] for the next three queries :-**"
   ]
  },
  {
   "cell_type": "markdown",
   "id": "3b45845a",
   "metadata": {},
   "source": [
    "**3. What is the value of spam[int(int('3' * 2) / 11)]?**\n",
    "\n",
    "The value of spam will be 'd' as ('3'*2) is a string 33 which is passed to int() before dividing it by 11 which eventually gives spam(3) thus giving the result as 'd'."
   ]
  },
  {
   "cell_type": "code",
   "execution_count": 2,
   "id": "acdabb88",
   "metadata": {},
   "outputs": [
    {
     "name": "stdout",
     "output_type": "stream",
     "text": [
      "d\n"
     ]
    }
   ],
   "source": [
    "spam = ['a','b','c', 'd']\n",
    "print(spam[int(int('3'*2)/11)])"
   ]
  },
  {
   "cell_type": "markdown",
   "id": "355dc580",
   "metadata": {},
   "source": [
    "**4. What is the value of spam[-1]?**\n",
    "\n",
    "The value of spam [-1] will be 'd' because of negative indexing"
   ]
  },
  {
   "cell_type": "code",
   "execution_count": 3,
   "id": "a1e1ab34",
   "metadata": {},
   "outputs": [
    {
     "name": "stdout",
     "output_type": "stream",
     "text": [
      "d\n"
     ]
    }
   ],
   "source": [
    "spam = ['a', 'b', 'c', 'd']\n",
    "print (spam[-1])"
   ]
  },
  {
   "cell_type": "markdown",
   "id": "398d124f",
   "metadata": {},
   "source": [
    "**5. What is the value of spam[:2]?**\n",
    "\n",
    "spam [:2] will return all the elements of the list spam from 0 to 2 excluding 2 as it does not include upper bound."
   ]
  },
  {
   "cell_type": "code",
   "execution_count": 4,
   "id": "6decfa56",
   "metadata": {},
   "outputs": [
    {
     "name": "stdout",
     "output_type": "stream",
     "text": [
      "['a', 'b']\n"
     ]
    }
   ],
   "source": [
    "print(spam[:2])"
   ]
  },
  {
   "cell_type": "markdown",
   "id": "f4e8fd97",
   "metadata": {},
   "source": [
    "**Let's pretend bacon has the list [3.14, 'cat,' 11, 'cat,' True] for the next three questions :-**"
   ]
  },
  {
   "cell_type": "markdown",
   "id": "dc9ad4df",
   "metadata": {},
   "source": [
    "**6. What is the value of bacon.index('cat')?**\n",
    "\n",
    "bacon.index('cat') will return the index of the very first occurance of 'cat' in the list i.e. 1."
   ]
  },
  {
   "cell_type": "code",
   "execution_count": 5,
   "id": "e5754e7e",
   "metadata": {},
   "outputs": [
    {
     "name": "stdout",
     "output_type": "stream",
     "text": [
      "1\n"
     ]
    }
   ],
   "source": [
    "bacon = [3.14,'cat', 11, 'cat', True]\n",
    "print(bacon.index('cat'))"
   ]
  },
  {
   "cell_type": "markdown",
   "id": "92e38ce0",
   "metadata": {},
   "source": [
    "**7. How does bacon.append(99) change the look of the list value in bacon?**\n",
    "\n",
    "Append will add a new element i.e. 99 in this case to the end of the list."
   ]
  },
  {
   "cell_type": "code",
   "execution_count": 6,
   "id": "f93cc850",
   "metadata": {},
   "outputs": [
    {
     "name": "stdout",
     "output_type": "stream",
     "text": [
      "[3.14, 'cat', 11, 'cat', True, 99]\n"
     ]
    }
   ],
   "source": [
    "bacon.append(99)\n",
    "print(bacon)"
   ]
  },
  {
   "cell_type": "markdown",
   "id": "8f54a494",
   "metadata": {},
   "source": [
    "**8. How does bacon.remove('cat') change the look of the list in bacon?**\n",
    "\n",
    "bacon.remove('cat') removes the first occurence of 'cat' in the list bacon."
   ]
  },
  {
   "cell_type": "code",
   "execution_count": 7,
   "id": "c84c9499",
   "metadata": {},
   "outputs": [
    {
     "name": "stdout",
     "output_type": "stream",
     "text": [
      "[3.14, 11, 'cat', True, 99]\n"
     ]
    }
   ],
   "source": [
    "bacon.remove('cat')\n",
    "print(bacon)"
   ]
  },
  {
   "cell_type": "markdown",
   "id": "2b3980e8",
   "metadata": {},
   "source": [
    "**9. What are the list concatenation and list replication operators?**\n",
    "\n",
    "The list concatenation operator is + whereas list replication operator is *."
   ]
  },
  {
   "cell_type": "code",
   "execution_count": 8,
   "id": "67827ab1",
   "metadata": {},
   "outputs": [
    {
     "name": "stdout",
     "output_type": "stream",
     "text": [
      "[5, 78, 90, 32, 67, 82, 'shre', 'cat', 'computer']\n",
      "['shre', 'cat', 'computer', 'shre', 'cat', 'computer']\n"
     ]
    }
   ],
   "source": [
    "#for example :-\n",
    "\n",
    "l = [5,78,90,32,67,82]\n",
    "l1 = ['shre', 'cat', 'computer']\n",
    "print(l+l1) #list concatenation\n",
    "print(l1*2) #list replication"
   ]
  },
  {
   "cell_type": "markdown",
   "id": "189c77f2",
   "metadata": {},
   "source": [
    "**10. What is difference between the list methods append() and insert()?**\n",
    "\n",
    "append() adds the values to the end of the list whereas insert() can add the values anywhere in a list"
   ]
  },
  {
   "cell_type": "code",
   "execution_count": 9,
   "id": "8b58761e",
   "metadata": {},
   "outputs": [
    {
     "name": "stdout",
     "output_type": "stream",
     "text": [
      "['shre', 'cat', 'computer', 'dell', 34]\n",
      "['shre', 'laptop', 'cat', 'computer', 'dell', 34]\n"
     ]
    }
   ],
   "source": [
    "#for example :-\n",
    "\n",
    "l1 = ['shre', 'cat', 'computer', 'dell']\n",
    "l1.append(34)\n",
    "print(l1)\n",
    "\n",
    "l1.insert(1, 'laptop')\n",
    "print(l1)"
   ]
  },
  {
   "cell_type": "markdown",
   "id": "9d5471ef",
   "metadata": {},
   "source": [
    "**11. What are the two methods for removing items from a list?**\n",
    "\n",
    "remove() and del are the two methods for removing the items from a list"
   ]
  },
  {
   "cell_type": "markdown",
   "id": "6150ae27",
   "metadata": {},
   "source": [
    "**12. Describe how list values and string values are identical.**\n",
    "\n",
    "List and strings are identical as both are sequential and ordered data type as well as index based in nature."
   ]
  },
  {
   "cell_type": "markdown",
   "id": "63937beb",
   "metadata": {},
   "source": [
    "**13. What's the difference between tuples and lists?**\n",
    "\n",
    "The major difference between tuples and lists is that while tuples are immutable, lists are mutable i.e. that tuples cannot be modified whereas lists can be modified or changed."
   ]
  },
  {
   "cell_type": "markdown",
   "id": "6f5849d6",
   "metadata": {},
   "source": [
    "**14. How do you type a tuple value that only contains the integer 42?**\n",
    "\n",
    "(42,) comma is mandatory otherwise python interpreter considers it as an integer value."
   ]
  },
  {
   "cell_type": "code",
   "execution_count": 10,
   "id": "97075dd3",
   "metadata": {},
   "outputs": [
    {
     "name": "stdout",
     "output_type": "stream",
     "text": [
      "<class 'int'>\n",
      "<class 'tuple'>\n"
     ]
    }
   ],
   "source": [
    "T = (42)\n",
    "T1 = (42,)\n",
    "\n",
    "print(type(T))\n",
    "print(type(T1))"
   ]
  },
  {
   "cell_type": "markdown",
   "id": "6e2f9dbe",
   "metadata": {},
   "source": [
    "**15. How do you get a list value's tuple form? How do you get a tuple value's list form?**\n",
    "\n",
    "One can get the list values in tuple form by using the function **tuple()** whereas tuple values can be represnted as list by using **list()** function"
   ]
  },
  {
   "cell_type": "code",
   "execution_count": 11,
   "id": "b4378866",
   "metadata": {},
   "outputs": [
    {
     "name": "stdout",
     "output_type": "stream",
     "text": [
      "(5, 78, 90, 32, 67, 82)\n",
      "[4, 5, 78, 98, 90, 67, 76]\n"
     ]
    }
   ],
   "source": [
    "#for example\n",
    "\n",
    "l = [5,78,90,32,67,82]\n",
    "t = (4,5,78,98,90,67,76)\n",
    "\n",
    "print(tuple(l))\n",
    "print(list(t))"
   ]
  },
  {
   "cell_type": "markdown",
   "id": "562e641a",
   "metadata": {},
   "source": [
    "**16. Variables that \"contain\" list values are not necessarily lists themselves. Instead, what do they contain?**\n",
    "\n",
    "Variables can contain refrences to list values."
   ]
  },
  {
   "cell_type": "markdown",
   "id": "60f51d81",
   "metadata": {},
   "source": [
    "**17. How do you distinguish between copy.copy() and copy.deepcopy()?**\n",
    "\n",
    "In shallow copy i.e. copy.copy ( ) same memory is used. So if we change any index based value in one list, the value of that particular index will also change in the other list. <br>\n",
    "\n",
    "Whereas in deep copy i.e. copy.deepcopy ( ) different memory is put into use. So if we change any index based value in one list, the value of that particular index will not change in the other list."
   ]
  },
  {
   "cell_type": "code",
   "execution_count": 12,
   "id": "ac8d34e0",
   "metadata": {},
   "outputs": [
    {
     "name": "stdout",
     "output_type": "stream",
     "text": [
      "([1, 2, 3, 4], [30, 6, 7, 8])\n",
      "([1, 2, 3, 4], [30, 6, 7, 8])\n"
     ]
    }
   ],
   "source": [
    "#Example of shallow and deep copy\n",
    "import copy\n",
    "\n",
    "a = [1,2,3,4],[5,6,7,8]\n",
    "b = copy.copy(a)\n",
    "\n",
    "b[1][0] = 30\n",
    "\n",
    "print(a)\n",
    "print(b)"
   ]
  },
  {
   "cell_type": "code",
   "execution_count": 13,
   "id": "7c8c7ad6",
   "metadata": {},
   "outputs": [
    {
     "name": "stdout",
     "output_type": "stream",
     "text": [
      "([1, 2, 3, 4], [5, 6, 7, 8])\n",
      "([1, 2, 3, 4], [30, 6, 7, 8])\n"
     ]
    }
   ],
   "source": [
    "#Example of deep copy\n",
    "import copy\n",
    "\n",
    "a = [1,2,3,4],[5,6,7,8]\n",
    "b = copy.deepcopy(a)\n",
    "\n",
    "b[1][0] = 30\n",
    "\n",
    "print(a)\n",
    "print(b)"
   ]
  }
 ],
 "metadata": {
  "kernelspec": {
   "display_name": "Python 3 (ipykernel)",
   "language": "python",
   "name": "python3"
  },
  "language_info": {
   "codemirror_mode": {
    "name": "ipython",
    "version": 3
   },
   "file_extension": ".py",
   "mimetype": "text/x-python",
   "name": "python",
   "nbconvert_exporter": "python",
   "pygments_lexer": "ipython3",
   "version": "3.9.7"
  }
 },
 "nbformat": 4,
 "nbformat_minor": 5
}
